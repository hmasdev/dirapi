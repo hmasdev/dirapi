{
 "cells": [
  {
   "cell_type": "markdown",
   "id": "c045aac5-159a-4362-8e6b-dd04e1866aa2",
   "metadata": {},
   "source": [
    "# DirAPI Example 2: Template SQL"
   ]
  },
  {
   "cell_type": "markdown",
   "id": "44809c79-0b0f-4e47-92b6-0b0506ee842c",
   "metadata": {},
   "source": [
    "In ./Example1.ipynb , we created API to load json and text files.\n",
    "\n",
    "In this notebook, let us create an API for SQL templates."
   ]
  },
  {
   "cell_type": "code",
   "execution_count": 1,
   "id": "822c11cf-c2d1-4e39-b41e-eb1ce4435a7d",
   "metadata": {},
   "outputs": [],
   "source": [
    "# If you have not installed dirapi yet,\n",
    "# !pip install -e ../../"
   ]
  },
  {
   "cell_type": "markdown",
   "id": "e89c5065-7abc-4084-a3e3-a13669344615",
   "metadata": {},
   "source": [
    "## Libraries"
   ]
  },
  {
   "cell_type": "code",
   "execution_count": 2,
   "id": "1c2213f5-9773-4938-9956-e0a6340c6b8f",
   "metadata": {},
   "outputs": [],
   "source": [
    "from datetime import date\n",
    "import jinja2\n",
    "import os\n",
    "import sqlite3 as sql\n",
    "from typing import Any, Dict, Iterable, List, Tuple\n",
    "\n",
    "from dirapi import create_api, help_tree\n",
    "\n",
    "%reload_ext autoreload\n",
    "%autoreload 2"
   ]
  },
  {
   "cell_type": "code",
   "execution_count": 3,
   "id": "83f4e3c6-2aa5-4028-b470-e68347ce2030",
   "metadata": {},
   "outputs": [],
   "source": [
    "# const.\n",
    "DB = \"./example.db\"\n",
    "ROOT_DIREC = \"../sqls/\""
   ]
  },
  {
   "cell_type": "markdown",
   "id": "a01eb27d-b587-4e13-a288-6a6c5c7e8292",
   "metadata": {},
   "source": [
    "## Tools"
   ]
  },
  {
   "cell_type": "code",
   "execution_count": 4,
   "id": "1e049287-d76b-438f-8265-eab716b9c344",
   "metadata": {},
   "outputs": [],
   "source": [
    "def load_txt(path: str) -> str:\n",
    "    \"\"\"Load text data\n",
    "    \"\"\"\n",
    "    with open(path) as f:\n",
    "        return f.read()"
   ]
  },
  {
   "cell_type": "code",
   "execution_count": 5,
   "id": "3a944ff4-e798-4ec4-b0fe-92c037161495",
   "metadata": {},
   "outputs": [],
   "source": [
    "def execute_sql(path:str, **kwargs):\n",
    "    \"\"\"Execute python script\n",
    "    \"\"\"\n",
    "    with open(path) as f:\n",
    "        exec(f.read(), globals())"
   ]
  },
  {
   "cell_type": "markdown",
   "id": "f0fcfaa0-a991-4800-9880-50c09c9b10ae",
   "metadata": {},
   "source": [
    "## Preparation\n",
    "\n",
    "First, let us create a simple database.\n",
    "\n",
    "This database has three tables: Customer, Transaction1 and Transaction2."
   ]
  },
  {
   "cell_type": "code",
   "execution_count": 6,
   "id": "522e3ea8-8fc4-41c9-af7e-dfae2434413b",
   "metadata": {},
   "outputs": [],
   "source": [
    "if os.path.exists(DB):\n",
    "    os.remove(DB)\n",
    "conn = sql.connect(DB)\n",
    "cur = conn.cursor()"
   ]
  },
  {
   "cell_type": "code",
   "execution_count": 7,
   "id": "7e06e1ca-67dc-4d38-8a90-3f19c624dcb4",
   "metadata": {},
   "outputs": [],
   "source": [
    "# create customer table\n",
    "cur.execute(\"CREATE TABLE Customer (Customer text, JoinDate date, OutDate date, Age real)\")\n",
    "cur.execute(f'INSERT INTO Customer VALUES (\"Alice\", \"2022-01-15\", NULL, 25)')\n",
    "cur.execute(f'INSERT INTO Customer VALUES (\"Bob\", \"2022-01-20\", NULL, 21)')\n",
    "cur.execute(f'INSERT INTO Customer VALUES (\"Charlie\", \"2022-01-21\", NULL, 17)')\n",
    "conn.commit()"
   ]
  },
  {
   "cell_type": "code",
   "execution_count": 8,
   "id": "4ea4730e-5596-4399-b6a8-efe3b3f26072",
   "metadata": {},
   "outputs": [],
   "source": [
    "# create transaction1 table\n",
    "cur.execute(\"CREATE TABLE Transaction1 (Date date, Customer text, Goods text, Price real)\")\n",
    "cur.execute(f'INSERT INTO Transaction1 VALUES (\"2022-01-15\", \"Alice\", \"Cup\", 100)')\n",
    "cur.execute(f'INSERT INTO Transaction1 VALUES (\"2022-01-15\", \"Alice\", \"Book\", 300)')\n",
    "cur.execute(f'INSERT INTO Transaction1 VALUES (\"2022-01-16\", \"Alice\", \"Pen\", 10)')\n",
    "cur.execute(f'INSERT INTO Transaction1 VALUES (\"2022-01-21\", \"Bob\", \"Book\", 300)')\n",
    "cur.execute(f'INSERT INTO Transaction1 VALUES (\"2022-01-23\", \"Bob\", \"Pen\", 10)')\n",
    "cur.execute(f'INSERT INTO Transaction1 VALUES (\"2022-01-25\", \"Alice\", \"Pen\", 10)')\n",
    "conn.commit()"
   ]
  },
  {
   "cell_type": "code",
   "execution_count": 9,
   "id": "f2423f1c-132c-4c7b-a19a-db1279136ab9",
   "metadata": {},
   "outputs": [],
   "source": [
    "# create transaction1 table\n",
    "cur.execute(\"CREATE TABLE Transaction2 (Date date, Customer text, Goods text, Price real)\")\n",
    "cur.execute(f'INSERT INTO Transaction2 VALUES (\"2022-01-21\", \"Bob\", \"Cap\", 1500)')\n",
    "cur.execute(f'INSERT INTO Transaction2 VALUES (\"2022-01-21\", \"Bob\", \"T-shirt\", 1000)')\n",
    "cur.execute(f'INSERT INTO Transaction2 VALUES (\"2022-01-23\", \"Charlie\", \"Shoes\", 2000)')\n",
    "cur.execute(f'INSERT INTO Transaction2 VALUES (\"2022-01-25\", \"Bob\", \"Shoes\", 300)')\n",
    "cur.execute(f'INSERT INTO Transaction2 VALUES (\"2022-01-27\", \"Charlie\", \"T-shirt\", 1000)')\n",
    "conn.commit()"
   ]
  },
  {
   "cell_type": "code",
   "execution_count": 10,
   "id": "ec144392-37af-47b0-8eb8-a8e75dac6db8",
   "metadata": {},
   "outputs": [
    {
     "data": {
      "text/plain": [
       "[('Alice', '2022-01-15', None, 25.0),\n",
       " ('Bob', '2022-01-20', None, 21.0),\n",
       " ('Charlie', '2022-01-21', None, 17.0)]"
      ]
     },
     "execution_count": 10,
     "metadata": {},
     "output_type": "execute_result"
    }
   ],
   "source": [
    "cur.execute(\"SELECT * FROM Customer\").fetchall()"
   ]
  },
  {
   "cell_type": "code",
   "execution_count": 11,
   "id": "cf672060-b166-4817-a51b-6779bd5e8b0a",
   "metadata": {},
   "outputs": [
    {
     "data": {
      "text/plain": [
       "[('2022-01-15', 'Alice', 'Cup', 100.0),\n",
       " ('2022-01-15', 'Alice', 'Book', 300.0),\n",
       " ('2022-01-16', 'Alice', 'Pen', 10.0),\n",
       " ('2022-01-21', 'Bob', 'Book', 300.0),\n",
       " ('2022-01-23', 'Bob', 'Pen', 10.0),\n",
       " ('2022-01-25', 'Alice', 'Pen', 10.0)]"
      ]
     },
     "execution_count": 11,
     "metadata": {},
     "output_type": "execute_result"
    }
   ],
   "source": [
    "cur.execute(\"SELECT * FROM Transaction1\").fetchall()"
   ]
  },
  {
   "cell_type": "code",
   "execution_count": 12,
   "id": "4dd7e458-5e35-4bc9-8294-b21463e241d2",
   "metadata": {},
   "outputs": [
    {
     "data": {
      "text/plain": [
       "[('2022-01-21', 'Bob', 'Cap', 1500.0),\n",
       " ('2022-01-21', 'Bob', 'T-shirt', 1000.0),\n",
       " ('2022-01-23', 'Charlie', 'Shoes', 2000.0),\n",
       " ('2022-01-25', 'Bob', 'Shoes', 300.0),\n",
       " ('2022-01-27', 'Charlie', 'T-shirt', 1000.0)]"
      ]
     },
     "execution_count": 12,
     "metadata": {},
     "output_type": "execute_result"
    }
   ],
   "source": [
    "cur.execute(\"SELECT * FROM Transaction2\").fetchall()"
   ]
  },
  {
   "cell_type": "markdown",
   "id": "9a320c58-3be8-4a50-8269-429b1b2834b4",
   "metadata": {},
   "source": [
    "## Directory structure\n",
    "\n",
    "Suppose that we have some jinja2 templates for sql scripts.\n",
    "\n",
    "The structure of templates are as follows."
   ]
  },
  {
   "cell_type": "code",
   "execution_count": 13,
   "id": "2561f228-68ad-44e3-b223-adaba8719343",
   "metadata": {},
   "outputs": [],
   "source": [
    "def tree(root: str, only_file: bool=False) -> Iterable[str]:\n",
    "    for root_, dirs, files in os.walk(root):\n",
    "        if not only_file:\n",
    "            yield root_\n",
    "        for file in files:\n",
    "            yield os.path.join(root_, file)"
   ]
  },
  {
   "cell_type": "code",
   "execution_count": 14,
   "id": "f93ce895-0ae6-4a6f-9640-de8ed956ab98",
   "metadata": {},
   "outputs": [
    {
     "data": {
      "text/plain": [
       "['../sqls/',\n",
       " '../sqls/master',\n",
       " '../sqls/master\\\\master.sql.j2',\n",
       " '../sqls/transactions',\n",
       " '../sqls/transactions\\\\transaction1.sql.j2',\n",
       " '../sqls/transactions\\\\transaction2.sql.j2']"
      ]
     },
     "execution_count": 14,
     "metadata": {},
     "output_type": "execute_result"
    }
   ],
   "source": [
    "list(tree(ROOT_DIREC))"
   ]
  },
  {
   "cell_type": "code",
   "execution_count": 15,
   "id": "1f204a35-419e-4fc1-97cc-1df246ea50c5",
   "metadata": {},
   "outputs": [
    {
     "name": "stdout",
     "output_type": "stream",
     "text": [
      "=== Content of ../sqls/master\\master.sql.j2 ===\n",
      "SELECT \n",
      "    *\n",
      "    FROM Customer\n",
      "    {% if start is defined and end is defined %}\n",
      "    where '{{ start }}' <= JoinDate and JoinDate <= '{{ end }}'\n",
      "    {% elif start is defined %}\n",
      "    where '{{ start }}' <= JoinDate\n",
      "    {% elif end is defined %}\n",
      "    where JoinDate <= '{{ end }}'\n",
      "    {% else %}\n",
      "    {% endif %}\n",
      "===============================================\n",
      "=== Content of ../sqls/transactions\\transaction1.sql.j2 ===\n",
      "SELECT \n",
      "    *\n",
      "    FROM Transaction1\n",
      "    {% if start is defined and end is defined %}\n",
      "    where '{{ start }}' <= Date and Date <= '{{ end }}'\n",
      "    {% elif start is defined %}\n",
      "    where '{{ start }}' <= Date\n",
      "    {% elif end is defined %}\n",
      "    where Date <= '{{ end }}'\n",
      "    {% else %}\n",
      "    {% endif %}\n",
      "===========================================================\n",
      "=== Content of ../sqls/transactions\\transaction2.sql.j2 ===\n",
      "SELECT \n",
      "    *\n",
      "    FROM Transaction2\n",
      "    {% if start is defined and end is defined %}\n",
      "    where '{{ start }}' <= Date and Date <= '{{ end }}'\n",
      "    {% elif start is defined %}\n",
      "    where '{{ start }}' <= Date\n",
      "    {% elif end is defined %}\n",
      "    where Date <= '{{ end }}'\n",
      "    {% else %}\n",
      "    {% endif %}\n",
      "===========================================================\n"
     ]
    }
   ],
   "source": [
    "for fpath in tree(ROOT_DIREC, True):\n",
    "    line: str = f\"=== Content of {fpath} ===\"\n",
    "    print(line)\n",
    "    print(load_txt(fpath))\n",
    "    print(\"=\"*len(line))"
   ]
  },
  {
   "cell_type": "markdown",
   "id": "f6c595e2-4c76-4f1b-bec0-93513cae1061",
   "metadata": {},
   "source": [
    "## Case without DirAPI: use only jinja2\n",
    "\n",
    "Of course, without `dirapi`, you can create an interface to load dataset from the database."
   ]
  },
  {
   "cell_type": "code",
   "execution_count": 16,
   "id": "15538cc2-765d-43b1-9d4e-fc2e09b153bd",
   "metadata": {},
   "outputs": [],
   "source": [
    "def load_data(\n",
    "    key: str,\n",
    "    env: jinja2.Environment=jinja2.Environment(loader=jinja2.FileSystemLoader(ROOT_DIREC)),\n",
    "    **kwargs\n",
    ") -> List[Tuple[Any, ...]]:\n",
    "    \n",
    "    # load template\n",
    "    template = env.get_template(key)\n",
    "    # render\n",
    "    script = template.render(**kwargs)\n",
    "    # exeucte\n",
    "    with sql.connect(DB) as conn:\n",
    "        cur = conn.cursor()\n",
    "        return cur.execute(script).fetchall()"
   ]
  },
  {
   "cell_type": "code",
   "execution_count": 17,
   "id": "0ff39f55-72c2-49da-a8ae-7f944792f20a",
   "metadata": {},
   "outputs": [
    {
     "data": {
      "text/plain": [
       "[('Alice', '2022-01-15', None, 25.0),\n",
       " ('Bob', '2022-01-20', None, 21.0),\n",
       " ('Charlie', '2022-01-21', None, 17.0)]"
      ]
     },
     "execution_count": 17,
     "metadata": {},
     "output_type": "execute_result"
    }
   ],
   "source": [
    "load_data(\"master/master.sql.j2\")"
   ]
  },
  {
   "cell_type": "code",
   "execution_count": 18,
   "id": "d3661a8a-5d6c-4dab-8dbd-07e469b7c8ab",
   "metadata": {},
   "outputs": [
    {
     "data": {
      "text/plain": [
       "[('Bob', '2022-01-20', None, 21.0), ('Charlie', '2022-01-21', None, 17.0)]"
      ]
     },
     "execution_count": 18,
     "metadata": {},
     "output_type": "execute_result"
    }
   ],
   "source": [
    "load_data(\"master/master.sql.j2\", start=date(2022, 1, 19))"
   ]
  },
  {
   "cell_type": "code",
   "execution_count": 19,
   "id": "79669210-8f88-45ee-bceb-97f439d38078",
   "metadata": {},
   "outputs": [
    {
     "data": {
      "text/plain": [
       "[('2022-01-15', 'Alice', 'Cup', 100.0),\n",
       " ('2022-01-15', 'Alice', 'Book', 300.0),\n",
       " ('2022-01-16', 'Alice', 'Pen', 10.0),\n",
       " ('2022-01-21', 'Bob', 'Book', 300.0),\n",
       " ('2022-01-23', 'Bob', 'Pen', 10.0),\n",
       " ('2022-01-25', 'Alice', 'Pen', 10.0)]"
      ]
     },
     "execution_count": 19,
     "metadata": {},
     "output_type": "execute_result"
    }
   ],
   "source": [
    "load_data(\"transactions/transaction1.sql.j2\")"
   ]
  },
  {
   "cell_type": "code",
   "execution_count": 20,
   "id": "b94c5cac-8be4-4cc5-812f-31880ed8215a",
   "metadata": {},
   "outputs": [
    {
     "data": {
      "text/plain": [
       "[('2022-01-21', 'Bob', 'Book', 300.0), ('2022-01-23', 'Bob', 'Pen', 10.0)]"
      ]
     },
     "execution_count": 20,
     "metadata": {},
     "output_type": "execute_result"
    }
   ],
   "source": [
    "load_data(\"transactions/transaction1.sql.j2\", start=date(2022,1,21), end=date(2022,1,24))"
   ]
  },
  {
   "cell_type": "markdown",
   "id": "4dcd6107-6669-442b-b496-0f26c5859ee7",
   "metadata": {},
   "source": [
    "However, in this way, you must know and remember the directory structure.\n",
    "It is a little bit troublesome."
   ]
  },
  {
   "cell_type": "markdown",
   "id": "60ec659a-25c7-4919-8e76-cfd8c5dd9200",
   "metadata": {},
   "source": [
    "## Case with DirAPI: create an API using jinja2\n",
    "\n",
    "With `dirapi`, you don't have to remember the directory structure."
   ]
  },
  {
   "cell_type": "code",
   "execution_count": 21,
   "id": "4879ad31-0f2b-4dfc-ad20-68fb6796b641",
   "metadata": {},
   "outputs": [],
   "source": [
    "def load_data_(\n",
    "    path: str,\n",
    "    env: jinja2.Environment=jinja2.Environment(loader=jinja2.FileSystemLoader(ROOT_DIREC)),\n",
    "    **kwargs,\n",
    ") -> List[Tuple[Any, ...]]:\n",
    "    \n",
    "    # load template\n",
    "    template = env.get_template(os.path.relpath(path, ROOT_DIREC).replace(os.sep, \"/\"))\n",
    "    # render\n",
    "    script = template.render(**kwargs)\n",
    "    # exeucte\n",
    "    with sql.connect(DB) as conn:\n",
    "        cur = conn.cursor()\n",
    "        return cur.execute(script).fetchall()"
   ]
  },
  {
   "cell_type": "code",
   "execution_count": 22,
   "id": "e788a7e3-0410-4035-9d43-c43a1548431c",
   "metadata": {},
   "outputs": [],
   "source": [
    "Api = create_api(ROOT_DIREC, {\"load\": load_data_})"
   ]
  },
  {
   "cell_type": "code",
   "execution_count": 23,
   "id": "86ed41a9-7adf-4bed-aa9d-1cbf95d1d727",
   "metadata": {},
   "outputs": [
    {
     "name": "stdout",
     "output_type": "stream",
     "text": [
      "Api\n",
      "Api.Master\n",
      "Api.Master.Master_sql\n",
      "Api.Master.Master_sql.load\n",
      "Api.Transactions\n",
      "Api.Transactions.Transaction1_sql\n",
      "Api.Transactions.Transaction1_sql.load\n",
      "Api.Transactions.Transaction2_sql\n",
      "Api.Transactions.Transaction2_sql.load\n",
      "\n"
     ]
    }
   ],
   "source": [
    "print(help_tree(Api))"
   ]
  },
  {
   "cell_type": "code",
   "execution_count": 24,
   "id": "cf187060-82bc-4781-9eef-39dc8741b4cf",
   "metadata": {},
   "outputs": [
    {
     "data": {
      "text/plain": [
       "[('2022-01-15', 'Alice', 'Cup', 100.0),\n",
       " ('2022-01-15', 'Alice', 'Book', 300.0),\n",
       " ('2022-01-16', 'Alice', 'Pen', 10.0),\n",
       " ('2022-01-21', 'Bob', 'Book', 300.0),\n",
       " ('2022-01-23', 'Bob', 'Pen', 10.0),\n",
       " ('2022-01-25', 'Alice', 'Pen', 10.0)]"
      ]
     },
     "execution_count": 24,
     "metadata": {},
     "output_type": "execute_result"
    }
   ],
   "source": [
    "Api.Transactions.Transaction1_sql.load()"
   ]
  },
  {
   "cell_type": "code",
   "execution_count": 25,
   "id": "ce0454a1-fad4-48f2-8652-cbe68fcf56b0",
   "metadata": {},
   "outputs": [
    {
     "data": {
      "text/plain": [
       "[('2022-01-21', 'Bob', 'Book', 300.0), ('2022-01-23', 'Bob', 'Pen', 10.0)]"
      ]
     },
     "execution_count": 25,
     "metadata": {},
     "output_type": "execute_result"
    }
   ],
   "source": [
    "Api.Transactions.Transaction1_sql.load(start=date(2022,1,21), end=date(2022,1,24))"
   ]
  },
  {
   "cell_type": "markdown",
   "id": "64bd93cc-be50-40fa-8e45-bb06b08921af",
   "metadata": {},
   "source": [
    "Good! We got the same result.\n",
    "\n",
    "The API structure is obvious with `print(help_tree(Api))`.\n",
    "\n",
    "We don't have to remember it."
   ]
  }
 ],
 "metadata": {
  "kernelspec": {
   "display_name": "Python 3 (ipykernel)",
   "language": "python",
   "name": "python3"
  },
  "language_info": {
   "codemirror_mode": {
    "name": "ipython",
    "version": 3
   },
   "file_extension": ".py",
   "mimetype": "text/x-python",
   "name": "python",
   "nbconvert_exporter": "python",
   "pygments_lexer": "ipython3",
   "version": "3.7.11"
  }
 },
 "nbformat": 4,
 "nbformat_minor": 5
}
