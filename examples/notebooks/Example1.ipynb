{
 "cells": [
  {
   "cell_type": "markdown",
   "id": "bfe020da-1ebb-4ea4-8bbe-fe2b546ca9cc",
   "metadata": {},
   "source": [
    "# DirAPI Example 1: .txt and .json loader\n",
    "\n",
    "In this notebook, let us create an API associated with ../data as the first example of `dirapi`."
   ]
  },
  {
   "cell_type": "markdown",
   "id": "1b58a81d-84e8-407d-be4f-5ddec816ab36",
   "metadata": {},
   "source": [
    "## Install dirapi\n",
    "\n",
    "First, install dirapi.\n",
    "Here, use `-e` option of pip to install dirapi."
   ]
  },
  {
   "cell_type": "code",
   "execution_count": 1,
   "id": "824b82f5-842e-424a-89d5-07eab7ab94d3",
   "metadata": {},
   "outputs": [],
   "source": [
    "# !pip install -e ../../"
   ]
  },
  {
   "cell_type": "markdown",
   "id": "cbce255d-7c3d-41ae-a846-0f5f578bbb1e",
   "metadata": {},
   "source": [
    "## Libraries\n",
    "\n",
    "Import required libraries: some standard libraries and `dirapi`."
   ]
  },
  {
   "cell_type": "code",
   "execution_count": 2,
   "id": "c7429b96-40ac-425c-b107-c5fca72a3ab5",
   "metadata": {},
   "outputs": [],
   "source": [
    "import json\n",
    "import os\n",
    "from typing import Any, Dict, Iterable\n",
    "\n",
    "from dirapi import create_api, help_tree\n",
    "\n",
    "%reload_ext autoreload\n",
    "%autoreload 2"
   ]
  },
  {
   "cell_type": "code",
   "execution_count": 3,
   "id": "7c245362-adfa-4d6f-b80f-b66c3bcdf548",
   "metadata": {},
   "outputs": [],
   "source": [
    "# const.\n",
    "ROOT_DIREC = \"../data/\""
   ]
  },
  {
   "cell_type": "markdown",
   "id": "3bb797f2-343a-48d5-b438-ce520e628b74",
   "metadata": {},
   "source": [
    "## Tools\n",
    "\n",
    "Let us define some methods which we will use below."
   ]
  },
  {
   "cell_type": "code",
   "execution_count": 4,
   "id": "d2c74e40-b055-4118-8e89-ebd1417ef7a8",
   "metadata": {},
   "outputs": [],
   "source": [
    "def load_txt(path: str) -> str:\n",
    "    \"\"\"Load text data\n",
    "    \"\"\"\n",
    "    with open(path) as f:\n",
    "        return f.read()"
   ]
  },
  {
   "cell_type": "code",
   "execution_count": 5,
   "id": "6c9c08e8-f67b-413a-9ca6-5601493c0bd8",
   "metadata": {},
   "outputs": [],
   "source": [
    "def load_json(path: str) -> Dict[str, Any]:\n",
    "    \"\"\"Load json data\n",
    "    \"\"\"\n",
    "    with open(path) as f:\n",
    "        return json.load(f)"
   ]
  },
  {
   "cell_type": "markdown",
   "id": "98c5157f-25aa-4c2d-99f2-d545c16f757a",
   "metadata": {},
   "source": [
    "## Directory structure\n",
    "\n",
    "Before creating an API associated with `../data/`, let us the structure."
   ]
  },
  {
   "cell_type": "code",
   "execution_count": 6,
   "id": "41760021-0333-4284-9b59-6f881bdf0760",
   "metadata": {},
   "outputs": [],
   "source": [
    "def tree(root: str, only_file: bool=False) -> Iterable[str]:\n",
    "    for root_, dirs, files in os.walk(root):\n",
    "        if not only_file:\n",
    "            yield root_\n",
    "        for file in files:\n",
    "            yield os.path.join(root_, file)"
   ]
  },
  {
   "cell_type": "code",
   "execution_count": 7,
   "id": "68e67af4-9f1a-4186-bc8e-e9ab9a08eeef",
   "metadata": {},
   "outputs": [
    {
     "data": {
      "text/plain": [
       "['../data/',\n",
       " '../data/jsons',\n",
       " '../data/jsons\\\\sample1.json',\n",
       " '../data/jsons\\\\sample2.json',\n",
       " '../data/txts',\n",
       " '../data/txts\\\\test1.txt',\n",
       " '../data/txts\\\\test2.txt']"
      ]
     },
     "execution_count": 7,
     "metadata": {},
     "output_type": "execute_result"
    }
   ],
   "source": [
    "list(tree(ROOT_DIREC))"
   ]
  },
  {
   "cell_type": "markdown",
   "id": "b4af2a72-794c-469b-9be8-cf90187a9df8",
   "metadata": {},
   "source": [
    "`../data` has two subdirectories: `jsons` and `txts`.\n",
    "`jsons` has two json files and `txts` has also two text files.\n",
    "\n",
    "Their contents are as follows:"
   ]
  },
  {
   "cell_type": "code",
   "execution_count": 8,
   "id": "52816426-ecae-4370-9095-aa38a9793d88",
   "metadata": {},
   "outputs": [
    {
     "name": "stdout",
     "output_type": "stream",
     "text": [
      "=== Content of ../data/jsons\\sample1.json ===\n",
      "{\n",
      "    \"name\": \"Sample1\",\n",
      "    \"val\": 1\n",
      "}\n",
      "=============================================\n",
      "=== Content of ../data/jsons\\sample2.json ===\n",
      "{\n",
      "    \"name\": \"Sample2\",\n",
      "    \"val\": 2\n",
      "}\n",
      "=============================================\n",
      "=== Content of ../data/txts\\test1.txt ===\n",
      "This is a test file.\n",
      "=========================================\n",
      "=== Content of ../data/txts\\test2.txt ===\n",
      "This is also a test file.\n",
      "=========================================\n"
     ]
    }
   ],
   "source": [
    "for fpath in tree(ROOT_DIREC, True):\n",
    "    line: str = f\"=== Content of {fpath} ===\"\n",
    "    print(line)\n",
    "    print(load_txt(fpath))\n",
    "    print(\"=\"*len(line))"
   ]
  },
  {
   "cell_type": "markdown",
   "id": "6ea7e2eb-a89c-47cf-8112-a564bc68593c",
   "metadata": {},
   "source": [
    "## Create Simple API\n",
    "\n",
    "Now, we have already known the structure of `../data`.\n",
    "\n",
    "Let us start to create a **simple** API associated with `../data`.\n",
    "\n",
    "This **simple** API provides interfaces to load the contents of json and text files as string."
   ]
  },
  {
   "cell_type": "code",
   "execution_count": 9,
   "id": "747f9cd2-aeeb-4a20-8080-98a24f96e5a6",
   "metadata": {},
   "outputs": [],
   "source": [
    "Api = create_api(ROOT_DIREC, {\"load\": load_txt})"
   ]
  },
  {
   "cell_type": "markdown",
   "id": "826618e6-0971-4792-abc2-d3c0a0456f72",
   "metadata": {},
   "source": [
    "Using `help_tree`, you can see the structure of an object."
   ]
  },
  {
   "cell_type": "code",
   "execution_count": 10,
   "id": "808bf503-3ed2-4745-9062-5c08f2828eb3",
   "metadata": {},
   "outputs": [
    {
     "name": "stdout",
     "output_type": "stream",
     "text": [
      "Api\n",
      "Api.Jsons\n",
      "Api.Jsons.Sample1\n",
      "Api.Jsons.Sample1.load\n",
      "Api.Jsons.Sample2\n",
      "Api.Jsons.Sample2.load\n",
      "Api.Txts\n",
      "Api.Txts.Test1\n",
      "Api.Txts.Test1.load\n",
      "Api.Txts.Test2\n",
      "Api.Txts.Test2.load\n",
      "\n"
     ]
    }
   ],
   "source": [
    "print(help_tree(Api))"
   ]
  },
  {
   "cell_type": "markdown",
   "id": "173fdcc8-3391-4922-82fd-f0d1f4122a50",
   "metadata": {},
   "source": [
    "Good!\n",
    "\n",
    "`Api` structure corresponds to the structure of `../data`\n",
    "\n",
    "So, let us use the API!"
   ]
  },
  {
   "cell_type": "code",
   "execution_count": 11,
   "id": "35877eb3-9b01-4175-bffa-586984085434",
   "metadata": {},
   "outputs": [
    {
     "data": {
      "text/plain": [
       "'{\\n    \"name\": \"Sample1\",\\n    \"val\": 1\\n}'"
      ]
     },
     "execution_count": 11,
     "metadata": {},
     "output_type": "execute_result"
    }
   ],
   "source": [
    "Api.Jsons.Sample1.load()"
   ]
  },
  {
   "cell_type": "code",
   "execution_count": 12,
   "id": "8898edfa-ef32-4eb6-afdb-06f1c946db1a",
   "metadata": {},
   "outputs": [
    {
     "data": {
      "text/plain": [
       "'{\\n    \"name\": \"Sample2\",\\n    \"val\": 2\\n}'"
      ]
     },
     "execution_count": 12,
     "metadata": {},
     "output_type": "execute_result"
    }
   ],
   "source": [
    "Api.Jsons.Sample2.load()"
   ]
  },
  {
   "cell_type": "code",
   "execution_count": 13,
   "id": "434d1e76-3686-4eed-a8da-c3401bf2ad89",
   "metadata": {},
   "outputs": [
    {
     "data": {
      "text/plain": [
       "'This is a test file.'"
      ]
     },
     "execution_count": 13,
     "metadata": {},
     "output_type": "execute_result"
    }
   ],
   "source": [
    "Api.Txts.Test1.load()"
   ]
  },
  {
   "cell_type": "code",
   "execution_count": 14,
   "id": "84353ccd-0f73-4af4-8a2e-6be93d1be068",
   "metadata": {},
   "outputs": [
    {
     "data": {
      "text/plain": [
       "'This is also a test file.'"
      ]
     },
     "execution_count": 14,
     "metadata": {},
     "output_type": "execute_result"
    }
   ],
   "source": [
    "Api.Txts.Test2.load()"
   ]
  },
  {
   "cell_type": "markdown",
   "id": "6339b591-ac3b-490d-86d5-3b467b8b5b40",
   "metadata": {},
   "source": [
    "If you want to read the docstring of each load method, you can use `__doc__` attribute or `help`.\n",
    "\n",
    "If you use `help`, you should apply `help` to `func` attribute of method because interfaces in this API partially wrap the original methods with `functools.partial`."
   ]
  },
  {
   "cell_type": "code",
   "execution_count": 15,
   "id": "f6af9f29-e0df-4082-90b5-821ccc6a7b24",
   "metadata": {},
   "outputs": [
    {
     "name": "stdout",
     "output_type": "stream",
     "text": [
      "Load text data\n",
      "    \n"
     ]
    }
   ],
   "source": [
    "print(Api.Txts.Test2.load.__doc__)"
   ]
  },
  {
   "cell_type": "code",
   "execution_count": 16,
   "id": "eff803e0-15e7-4e43-844a-23f85e75d22f",
   "metadata": {},
   "outputs": [
    {
     "name": "stdout",
     "output_type": "stream",
     "text": [
      "Help on function load_txt in module __main__:\n",
      "\n",
      "load_txt(path: str) -> str\n",
      "    Load text data\n",
      "\n"
     ]
    }
   ],
   "source": [
    "help(Api.Txts.Test2.load.func)"
   ]
  },
  {
   "cell_type": "markdown",
   "id": "109c2868-ac92-44d9-af22-aface1874d79",
   "metadata": {},
   "source": [
    "## Create more sophisticated API\n",
    "\n",
    "In the previous section, we created a simple API.\n",
    "\n",
    "Here, let us create a more sophisticated API associated with `../data`.\n",
    "\n",
    "This API provides json loader and txt loader."
   ]
  },
  {
   "cell_type": "markdown",
   "id": "4d5bd20d-8b97-4844-aa30-45d53c7ca504",
   "metadata": {},
   "source": [
    "Using `ext_2_func_map` argument, you can give methods according to the extension."
   ]
  },
  {
   "cell_type": "code",
   "execution_count": 17,
   "id": "19f03abb-9894-4f07-8271-f815ae490153",
   "metadata": {},
   "outputs": [],
   "source": [
    "Api2 = create_api(ROOT_DIREC, ext_2_func_map={\".json\": {\"load\": load_json}, \".txt\": {\"load\": load_txt}})"
   ]
  },
  {
   "cell_type": "markdown",
   "id": "b7deacf4-2f02-48d1-a292-e74b9bdf05b0",
   "metadata": {},
   "source": [
    "The structure of Api2 is as follows:"
   ]
  },
  {
   "cell_type": "code",
   "execution_count": 18,
   "id": "f9e6b4a4-49d1-4fca-a3dc-e4d75420f88e",
   "metadata": {},
   "outputs": [
    {
     "name": "stdout",
     "output_type": "stream",
     "text": [
      "Api\n",
      "Api.Jsons\n",
      "Api.Jsons.Sample1\n",
      "Api.Jsons.Sample1.load\n",
      "Api.Jsons.Sample2\n",
      "Api.Jsons.Sample2.load\n",
      "Api.Txts\n",
      "Api.Txts.Test1\n",
      "Api.Txts.Test1.load\n",
      "Api.Txts.Test2\n",
      "Api.Txts.Test2.load\n",
      "\n"
     ]
    }
   ],
   "source": [
    "print(help_tree(Api2))"
   ]
  },
  {
   "cell_type": "markdown",
   "id": "142d160e-1746-4cc5-8bef-d8ddabc7e2a7",
   "metadata": {},
   "source": [
    "Of course, the structure of Api2 is same with the structure of Api."
   ]
  },
  {
   "cell_type": "code",
   "execution_count": 19,
   "id": "9dd5ad2e-cf46-4454-9f9c-6743c83ef0cf",
   "metadata": {},
   "outputs": [
    {
     "data": {
      "text/plain": [
       "True"
      ]
     },
     "execution_count": 19,
     "metadata": {},
     "output_type": "execute_result"
    }
   ],
   "source": [
    "help_tree(Api2) == help_tree(Api)"
   ]
  },
  {
   "cell_type": "markdown",
   "id": "bb43e091-4aeb-4320-b6b8-a785757ac1f3",
   "metadata": {},
   "source": [
    "OK."
   ]
  },
  {
   "cell_type": "markdown",
   "id": "d0694335-cf6e-439c-b46f-c5a2611cff46",
   "metadata": {},
   "source": [
    "So let us use the more sophisticated API."
   ]
  },
  {
   "cell_type": "code",
   "execution_count": 20,
   "id": "80e3bf22-56ef-4f7e-bf08-e210d68f5b5f",
   "metadata": {},
   "outputs": [
    {
     "data": {
      "text/plain": [
       "{'name': 'Sample1', 'val': 1}"
      ]
     },
     "execution_count": 20,
     "metadata": {},
     "output_type": "execute_result"
    }
   ],
   "source": [
    "Api2.Jsons.Sample1.load()"
   ]
  },
  {
   "cell_type": "code",
   "execution_count": 21,
   "id": "33bef5fe-3fe8-49ec-81b7-b3637548fa14",
   "metadata": {},
   "outputs": [
    {
     "data": {
      "text/plain": [
       "{'name': 'Sample2', 'val': 2}"
      ]
     },
     "execution_count": 21,
     "metadata": {},
     "output_type": "execute_result"
    }
   ],
   "source": [
    "Api2.Jsons.Sample2.load()"
   ]
  },
  {
   "cell_type": "code",
   "execution_count": 22,
   "id": "a2836059-3da2-43e9-914c-ff37379093eb",
   "metadata": {},
   "outputs": [
    {
     "data": {
      "text/plain": [
       "'This is a test file.'"
      ]
     },
     "execution_count": 22,
     "metadata": {},
     "output_type": "execute_result"
    }
   ],
   "source": [
    "Api2.Txts.Test1.load()"
   ]
  },
  {
   "cell_type": "code",
   "execution_count": 23,
   "id": "df312bb5-0482-4b0e-9395-c9a2e620f47b",
   "metadata": {},
   "outputs": [
    {
     "data": {
      "text/plain": [
       "'This is also a test file.'"
      ]
     },
     "execution_count": 23,
     "metadata": {},
     "output_type": "execute_result"
    }
   ],
   "source": [
    "Api2.Txts.Test2.load()"
   ]
  },
  {
   "cell_type": "markdown",
   "id": "ad1f7468-c41f-4d3c-9145-562544081c0c",
   "metadata": {},
   "source": [
    "Great!\n",
    "\n",
    "We loaded json files as `dict` and text files as `str`."
   ]
  }
 ],
 "metadata": {
  "kernelspec": {
   "display_name": "Python 3 (ipykernel)",
   "language": "python",
   "name": "python3"
  },
  "language_info": {
   "codemirror_mode": {
    "name": "ipython",
    "version": 3
   },
   "file_extension": ".py",
   "mimetype": "text/x-python",
   "name": "python",
   "nbconvert_exporter": "python",
   "pygments_lexer": "ipython3",
   "version": "3.7.11"
  }
 },
 "nbformat": 4,
 "nbformat_minor": 5
}
